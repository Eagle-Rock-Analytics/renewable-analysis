{
 "cells": [
  {
   "cell_type": "markdown",
   "id": "3faac0cf",
   "metadata": {},
   "source": [
    "# Example Notebook\n",
    "\n",
    "This is an example Jupyter notebook demonstrating how to use the template-basic package."
   ]
  },
  {
   "cell_type": "code",
   "execution_count": 1,
   "id": "42bd645c",
   "metadata": {},
   "outputs": [],
   "source": [
    "# Standard imports\n",
    "import matplotlib.pyplot as plt\n",
    "import pandas as pd\n",
    "\n",
    "from example import add_numbers, hello_world"
   ]
  },
  {
   "cell_type": "markdown",
   "id": "19a1bd66",
   "metadata": {},
   "source": [
    "## Testing the Functions"
   ]
  },
  {
   "cell_type": "code",
   "execution_count": 4,
   "id": "03c00038",
   "metadata": {},
   "outputs": [
    {
     "name": "stdout",
     "output_type": "stream",
     "text": [
      "Hello, World!\n",
      "Hello, Jupyter!\n"
     ]
    }
   ],
   "source": [
    "# Test hello_world function\n",
    "print(hello_world())\n",
    "print(hello_world(\"Jupyter\"))"
   ]
  },
  {
   "cell_type": "code",
   "execution_count": 5,
   "id": "d5997c0c",
   "metadata": {},
   "outputs": [
    {
     "name": "stdout",
     "output_type": "stream",
     "text": [
      "10 + 20 = 30\n"
     ]
    }
   ],
   "source": [
    "# Test add_numbers function\n",
    "result = add_numbers(10, 20)\n",
    "print(f\"10 + 20 = {result}\")"
   ]
  },
  {
   "cell_type": "markdown",
   "id": "4778ad50",
   "metadata": {},
   "source": [
    "## Working with Data"
   ]
  },
  {
   "cell_type": "code",
   "execution_count": null,
   "id": "e6e802e3",
   "metadata": {},
   "outputs": [
    {
     "name": "stdout",
     "output_type": "stream",
     "text": [
      "      name  age      city\n",
      "0    Alice   25  New York\n",
      "1      Bob   30    London\n",
      "2  Charlie   35     Tokyo\n",
      "3    Diana   28     Paris\n"
     ]
    }
   ],
   "source": [
    "# Create sample data\n",
    "data = {\n",
    "    \"name\": [\"Alice\", \"Bob\", \"Charlie\", \"Diana\"],\n",
    "    \"age\": [25, 30, 35, 28],\n",
    "    \"city\": [\"New York\", \"London\", \"Tokyo\", \"Paris\"],\n",
    "}\n",
    "\n",
    "sample_data = pd.DataFrame(data)\n",
    "print(sample_data)"
   ]
  },
  {
   "cell_type": "code",
   "execution_count": null,
   "id": "c9de32ee",
   "metadata": {},
   "outputs": [
    {
     "name": "stdout",
     "output_type": "stream",
     "text": [
      "Average age: 29.5\n",
      "Age range: 25 - 35\n"
     ]
    }
   ],
   "source": [
    "# Basic statistics\n",
    "print(f\"Average age: {sample_data['age'].mean():.1f}\")\n",
    "print(f\"Age range: {sample_data['age'].min()} - {sample_data['age'].max()}\")"
   ]
  },
  {
   "cell_type": "markdown",
   "id": "7ee26a62",
   "metadata": {},
   "source": [
    "## Plotting Example"
   ]
  },
  {
   "cell_type": "code",
   "execution_count": null,
   "id": "b0e9b152",
   "metadata": {},
   "outputs": [
    {
     "ename": "ModuleNotFoundError",
     "evalue": "No module named 'matplotlib'",
     "output_type": "error",
     "traceback": [
      "\u001b[31m---------------------------------------------------------------------------\u001b[39m",
      "\u001b[31mModuleNotFoundError\u001b[39m                       Traceback (most recent call last)",
      "\u001b[36mCell\u001b[39m\u001b[36m \u001b[39m\u001b[32mIn[8]\u001b[39m\u001b[32m, line 2\u001b[39m\n\u001b[32m      1\u001b[39m \u001b[38;5;66;03m# Simple plot\u001b[39;00m\n\u001b[32m----> \u001b[39m\u001b[32m2\u001b[39m \u001b[38;5;28;01mimport\u001b[39;00m\u001b[38;5;250m \u001b[39m\u001b[34;01mmatplotlib\u001b[39;00m\u001b[34;01m.\u001b[39;00m\u001b[34;01mpyplot\u001b[39;00m\u001b[38;5;250m \u001b[39m\u001b[38;5;28;01mas\u001b[39;00m\u001b[38;5;250m \u001b[39m\u001b[34;01mplt\u001b[39;00m\n\u001b[32m      4\u001b[39m plt.figure(figsize=(\u001b[32m8\u001b[39m, \u001b[32m6\u001b[39m))\n\u001b[32m      5\u001b[39m plt.bar(df[\u001b[33m'\u001b[39m\u001b[33mname\u001b[39m\u001b[33m'\u001b[39m], df[\u001b[33m'\u001b[39m\u001b[33mage\u001b[39m\u001b[33m'\u001b[39m])\n",
      "\u001b[31mModuleNotFoundError\u001b[39m: No module named 'matplotlib'"
     ]
    }
   ],
   "source": [
    "# Simple plot\n",
    "plt.figure(figsize=(8, 6))\n",
    "plt.bar(sample_data[\"name\"], sample_data[\"age\"])\n",
    "plt.title(\"Age by Person\")\n",
    "plt.xlabel(\"Name\")\n",
    "plt.ylabel(\"Age\")\n",
    "plt.xticks(rotation=45)\n",
    "plt.tight_layout()\n",
    "plt.show()"
   ]
  }
 ],
 "metadata": {
  "kernelspec": {
   "display_name": "template-basic",
   "language": "python",
   "name": "python3"
  },
  "language_info": {
   "codemirror_mode": {
    "name": "ipython",
    "version": 3
   },
   "file_extension": ".py",
   "mimetype": "text/x-python",
   "name": "python",
   "nbconvert_exporter": "python",
   "pygments_lexer": "ipython3",
   "version": "3.13.5"
  }
 },
 "nbformat": 4,
 "nbformat_minor": 5
}
